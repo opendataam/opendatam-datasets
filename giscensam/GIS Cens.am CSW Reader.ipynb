{
 "cells": [
  {
   "cell_type": "code",
   "execution_count": 61,
   "id": "5a850ab9",
   "metadata": {},
   "outputs": [],
   "source": [
    "from owslib.csw import CatalogueServiceWeb\n",
    "from owslib.wcs import WebCoverageService\n",
    "from owslib.wms import WebMapService\n",
    "import requests\n",
    "\n"
   ]
  },
  {
   "cell_type": "code",
   "execution_count": 30,
   "id": "146b808f",
   "metadata": {},
   "outputs": [
    {
     "name": "stdout",
     "output_type": "stream",
     "text": [
      "['GetCapabilities', 'DescribeRecord', 'GetDomain', 'GetRecords', 'GetRecordById']\n"
     ]
    }
   ],
   "source": [
    "csw = CatalogueServiceWeb('http://gs.cens.am:8081/geoserver/ows?service=csw&version=2.0.2&request=GetCapabilities')\n",
    "csw.identification.type\n",
    "print([op.name for op in csw.operations])"
   ]
  },
  {
   "cell_type": "code",
   "execution_count": 31,
   "id": "cf6e03c8",
   "metadata": {},
   "outputs": [],
   "source": [
    "csw.getrecords2()\n"
   ]
  },
  {
   "cell_type": "code",
   "execution_count": 45,
   "id": "b3e09a64",
   "metadata": {},
   "outputs": [
    {
     "data": {
      "text/plain": [
       "'OGC:WMS'"
      ]
     },
     "execution_count": 45,
     "metadata": {},
     "output_type": "execute_result"
    }
   ],
   "source": [
    "wms = WebMapService('http://gs.cens.am:8081/geoserver/ows?service=wms&version=1.1.1&request=GetCapabilities', version='1.1.1')\n",
    "wms.identification.type\n",
    "\n",
    "\n"
   ]
  },
  {
   "cell_type": "code",
   "execution_count": 46,
   "id": "106d3e39",
   "metadata": {},
   "outputs": [
    {
     "data": {
      "text/plain": [
       "'1.1.1'"
      ]
     },
     "execution_count": 46,
     "metadata": {},
     "output_type": "execute_result"
    }
   ],
   "source": [
    "wms.identification.version\n",
    "\n"
   ]
  },
  {
   "cell_type": "code",
   "execution_count": 47,
   "id": "cbcb09b6",
   "metadata": {},
   "outputs": [
    {
     "data": {
      "text/plain": [
       "'Web Map Service for map access implementing WMS 1.1.1 and WMS 1.3.0. Dynamic styling provided by the SLD 1.0 extension with partial support for SE 1.1. Additional formats can be generated including PDF, SVG, KML, GeoRSS. Vendor options available for customization including CQL_FILTER.'"
      ]
     },
     "execution_count": 47,
     "metadata": {},
     "output_type": "execute_result"
    }
   ],
   "source": [
    "wms.identification.abstract"
   ]
  },
  {
   "cell_type": "code",
   "execution_count": 48,
   "id": "609cf43f",
   "metadata": {},
   "outputs": [
    {
     "data": {
      "text/plain": [
       "'GeoServer Web Map Service'"
      ]
     },
     "execution_count": 48,
     "metadata": {},
     "output_type": "execute_result"
    }
   ],
   "source": [
    "wms.identification.title"
   ]
  },
  {
   "cell_type": "code",
   "execution_count": 49,
   "id": "18341ad6",
   "metadata": {},
   "outputs": [
    {
     "data": {
      "text/plain": [
       "['GetCapabilities',\n",
       " 'GetMap',\n",
       " 'GetFeatureInfo',\n",
       " 'DescribeLayer',\n",
       " 'GetLegendGraphic',\n",
       " 'GetStyles']"
      ]
     },
     "execution_count": 49,
     "metadata": {},
     "output_type": "execute_result"
    }
   ],
   "source": [
    "[op.name for op in wms.operations]"
   ]
  },
  {
   "cell_type": "code",
   "execution_count": 67,
   "id": "46bb07d7",
   "metadata": {},
   "outputs": [
    {
     "name": "stdout",
     "output_type": "stream",
     "text": [
      "Absolute air humidity\n",
      "Absolute air temperature (max)\n",
      "Absolute air temperature (min)\n",
      "Administrative divisions of RA\n",
      "Agroclimatic_zonning\n",
      "Annual amount of precipitation\n",
      "Annual potential evapotranspiration\n",
      "Average_annual_runoff_of_rivers\n",
      "Density of river network\n",
      "Drought\n",
      "Humidification_index\n",
      "Ionic stream\n",
      "Kaj_bean_pot_sp_2017\n",
      "Maximal soil water storage (early spring)\n",
      "Medical climatic zonning\n",
      "Natural_zones\n",
      "Physico-geographical_regions\n",
      "Precipitation_more_than_5_mm\n",
      "RIVERS\n",
      "River water mineralization\n",
      "River water turbidity\n",
      "River_Water_temperature_Year\n",
      "River_water_temperature_January\n",
      "River_water_temperature_July\n",
      "Seismicity\n",
      "Seismoyectonics\n",
      "Specification_of_agricultural_regions\n",
      "Surface flow\n",
      "The number of days with mean air temperature height then 10 degree of C\n",
      "The number of days with mean air temperature height then 15 degree of C\n",
      "Underground mineral waters\n"
     ]
    }
   ],
   "source": [
    "KML_PREFIX = 'http://gs.cens.am:8081/geoserver/Armenia/wms/kml?layers='\n",
    "GML_PREFIX = 'http://gs.cens.am:8081/geoserver/Armenia/ows?service=WFS&version=1.0.0&request=GetFeature&maxFeatures=50&typeName='\n",
    "CSV_PREFIX = 'http://gs.cens.am:8081/geoserver/Armenia/ows?service=WFS&version=1.0.0&request=GetFeature&maxFeatures=50&outputFormat=csv&typeName='\n",
    "\n",
    "import csv\n",
    "f = open('layers.csv', 'w', encoding='utf8')\n",
    "writer = csv.writer(f)\n",
    "writer.writerow(['id', 'title', 'kml_url', 'gml_url', 'csv_url'])\n",
    "for item in wms.items():\n",
    "    layer = wms[item[0]]\n",
    "    row = [item[0], layer.title, KML_PREFIX + item[0], GML_PREFIX + item[0], CSV_PREFIX + item[0]]\n",
    "    writer.writerow(row)\n",
    "    print(layer.title)\n",
    "f.close()    \n",
    "#    data = requests.get(CSV_PREFIX + item[0])\n",
    "#    print(data.text)\n"
   ]
  },
  {
   "cell_type": "code",
   "execution_count": null,
   "id": "d90805b4",
   "metadata": {},
   "outputs": [],
   "source": [
    "wms2 = WebMapService('http://gs.cens.am:8081/geoserver/ows?service=wms&version=1.1.1&request=GetCapabilities', version='1.1.1')\n",
    "https://gp.e-cadastre.am:8443/arpis-geoportal/ows/wms?service=wms&version=1.1.1&request=GetCapabilities\n",
    "\n",
    "wms2.identification.type\n",
    "\n",
    "for item in wms2.items():\n",
    "    layer = wms2[item[0]]\n",
    "    print(item[0])"
   ]
  }
 ],
 "metadata": {
  "kernelspec": {
   "display_name": "Python 3 (ipykernel)",
   "language": "python",
   "name": "python3"
  },
  "language_info": {
   "codemirror_mode": {
    "name": "ipython",
    "version": 3
   },
   "file_extension": ".py",
   "mimetype": "text/x-python",
   "name": "python",
   "nbconvert_exporter": "python",
   "pygments_lexer": "ipython3",
   "version": "3.10.0"
  }
 },
 "nbformat": 4,
 "nbformat_minor": 5
}
